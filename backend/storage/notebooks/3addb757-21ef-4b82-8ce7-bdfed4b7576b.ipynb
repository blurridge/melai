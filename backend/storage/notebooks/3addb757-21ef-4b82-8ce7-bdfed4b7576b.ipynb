{
 "cells": [
  {
   "cell_type": "markdown",
   "id": "5f00e042",
   "metadata": {},
   "source": [
    "# Model Training Error Report"
   ]
  },
  {
   "cell_type": "markdown",
   "id": "1e45ded4",
   "metadata": {},
   "source": [
    "## Error Details"
   ]
  },
  {
   "cell_type": "markdown",
   "id": "02b80145",
   "metadata": {},
   "source": [
    "**Error Message**: Error in notebook generation: cannot access local variable 'feature_name' where it is not associated with a value"
   ]
  },
  {
   "cell_type": "markdown",
   "id": "2a3716a1",
   "metadata": {},
   "source": [
    "## Model Configuration"
   ]
  },
  {
   "cell_type": "markdown",
   "id": "b25cc350",
   "metadata": {},
   "source": [
    "\n",
    "    - **Dataset ID**: c6b36640-7d9c-4bad-b616-ec1525348d93\n",
    "    - **Task Type**: TaskType.CLASSIFICATION\n",
    "    - **Model Type**: ModelType.LOGISTIC_REGRESSION\n",
    "    - **Target Column**: Survived\n",
    "    - **Selected Features**: PassengerId, Pclass, Name, Sex, Age, SibSp, Parch, Ticket, Fare, Cabin, Embarked\n",
    "    "
   ]
  },
  {
   "cell_type": "markdown",
   "id": "1c6b423d",
   "metadata": {},
   "source": [
    "## Troubleshooting Tips"
   ]
  },
  {
   "cell_type": "markdown",
   "id": "4289e886",
   "metadata": {},
   "source": [
    "\n",
    "    1. Check if all selected features are valid columns in your dataset\n",
    "    2. For object-type features, ensure they are encoded properly (one-hot encoding recommended)\n",
    "    3. Ensure your target column doesn't contain invalid values\n",
    "    4. Try reducing the number of features if you're selecting many columns\n",
    "    5. For numerical features with missing values, consider imputation strategies\n",
    "    "
   ]
  }
 ],
 "metadata": {},
 "nbformat": 4,
 "nbformat_minor": 5
}
